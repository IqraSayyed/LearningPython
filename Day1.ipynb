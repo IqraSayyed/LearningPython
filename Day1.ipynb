{
 "cells": [
  {
   "cell_type": "markdown",
   "id": "9c7411ab-9ccb-41b5-bccc-317219018165",
   "metadata": {},
   "source": [
    "# Day 1 of learning"
   ]
  },
  {
   "cell_type": "markdown",
   "id": "4dbcff77-b5e7-4001-b0b4-df74c08fc190",
   "metadata": {
    "jp-MarkdownHeadingCollapsed": true
   },
   "source": [
    "## Indentation and Comments"
   ]
  },
  {
   "cell_type": "code",
   "execution_count": 16,
   "id": "2497c420-c8c3-46d1-8e4d-251d620f709e",
   "metadata": {},
   "outputs": [
    {
     "name": "stdout",
     "output_type": "stream",
     "text": [
      "True\n"
     ]
    }
   ],
   "source": [
    "# this is me trying how indentation works\n",
    "# along with this, I wanted to try out how comments work\n",
    "# comments start with a (#) and they don't get executed\n",
    "# comments are made to help the user and the reader of the code\n",
    "# to understand what the code does and any relevent information.\n",
    "if 2 == 2:\n",
    "    print(True)"
   ]
  },
  {
   "cell_type": "code",
   "execution_count": 24,
   "id": "631150ce-d0e3-447e-b6e0-d6d9cd3d2818",
   "metadata": {},
   "outputs": [
    {
     "ename": "SyntaxError",
     "evalue": "unterminated string literal (detected at line 1) (530053302.py, line 1)",
     "output_type": "error",
     "traceback": [
      "\u001b[1;36m  Cell \u001b[1;32mIn[24], line 1\u001b[1;36m\u001b[0m\n\u001b[1;33m    \"im trying multi line comments\u001b[0m\n\u001b[1;37m    ^\u001b[0m\n\u001b[1;31mSyntaxError\u001b[0m\u001b[1;31m:\u001b[0m unterminated string literal (detected at line 1)\n"
     ]
    }
   ],
   "source": [
    "\"im trying multi line comments \n",
    "with single quote\""
   ]
  },
  {
   "cell_type": "code",
   "execution_count": 30,
   "id": "cd2684fc-fb57-4296-89df-a9eecb82bcdb",
   "metadata": {},
   "outputs": [
    {
     "data": {
      "text/plain": [
       "\"I am over here trying multiline comments \\nIntially I did with with single quotes \\nand it doesn't seemed to have worked \\nbut now it does\\n\""
      ]
     },
     "execution_count": 30,
     "metadata": {},
     "output_type": "execute_result"
    }
   ],
   "source": [
    "\"\"\"I am over here trying multiline comments \n",
    "Intially I did with with single quotes \n",
    "and it doesn't seemed to have worked \n",
    "but now it does\n",
    "\"\"\""
   ]
  },
  {
   "cell_type": "markdown",
   "id": "824c5899-0137-46fe-896d-23a967b2bfa7",
   "metadata": {},
   "source": [
    "## Escape character"
   ]
  },
  {
   "cell_type": "code",
   "execution_count": 44,
   "id": "7c2c74ca-ce4a-4975-bc7a-10cc8627011e",
   "metadata": {},
   "outputs": [
    {
     "name": "stdout",
     "output_type": "stream",
     "text": [
      "Hello I am Iqra \n",
      "I am 18 years old\n"
     ]
    }
   ],
   "source": [
    "# i amm trying to learn escape character (\\n)\n",
    "# it helps in breaking the line\n",
    "# it is used to make it look clean\n",
    "# for example, we want to print things \n",
    "# on several line instead of just one\n",
    "print(\"Hello I am Iqra \\nI am 18 years old\")"
   ]
  },
  {
   "cell_type": "markdown",
   "id": "72459fe6-be3b-4952-a68c-72ae7a937de9",
   "metadata": {
    "jp-MarkdownHeadingCollapsed": true
   },
   "source": [
    "## String"
   ]
  },
  {
   "cell_type": "code",
   "execution_count": 81,
   "id": "3c502dad-3702-44da-976e-e1b1edb32a5c",
   "metadata": {},
   "outputs": [
    {
     "name": "stdout",
     "output_type": "stream",
     "text": [
      "we can use double quotes to define a string\n"
     ]
    }
   ],
   "source": [
    "single_quote = \"we can use double quotes to define a string\"\n",
    "print(single_quote)"
   ]
  },
  {
   "cell_type": "code",
   "execution_count": 75,
   "id": "65cc4cb5-d4f1-47c8-a66e-2b1bd686046e",
   "metadata": {},
   "outputs": [
    {
     "data": {
      "text/plain": [
       "'we can only use double quotes to define a string'"
      ]
     },
     "execution_count": 75,
     "metadata": {},
     "output_type": "execute_result"
    }
   ],
   "source": [
    "'we can only use double quotes to define a string'"
   ]
  },
  {
   "cell_type": "code",
   "execution_count": 77,
   "id": "16997bc8-0a98-4647-8cf7-7dc360db9ea6",
   "metadata": {},
   "outputs": [
    {
     "data": {
      "text/plain": [
       "'We can use triple quotes in the case where \\nwe have multiple lines or sentences'"
      ]
     },
     "execution_count": 77,
     "metadata": {},
     "output_type": "execute_result"
    }
   ],
   "source": [
    "\"\"\"We can use triple quotes in the case where \n",
    "we have multiple lines or sentences\"\"\""
   ]
  },
  {
   "cell_type": "code",
   "execution_count": 83,
   "id": "77f2ba70-663c-4960-8820-72b1262473ba",
   "metadata": {},
   "outputs": [
    {
     "data": {
      "text/plain": [
       "str"
      ]
     },
     "execution_count": 83,
     "metadata": {},
     "output_type": "execute_result"
    }
   ],
   "source": [
    "type(single_quote)"
   ]
  },
  {
   "cell_type": "markdown",
   "id": "70a5f6fa-876b-4c83-9cb2-2f4645f39a7b",
   "metadata": {
    "jp-MarkdownHeadingCollapsed": true
   },
   "source": [
    "## Boolean"
   ]
  },
  {
   "attachments": {
    "fb2ea4e8-23bd-4085-8f59-b64509fbc76c.png": {
     "image/png": "[encoded data removed]"
    }
   },
   "cell_type": "markdown",
   "id": "f87cdd4a-45a6-4cd1-881f-6f27b651b17f",
   "metadata": {},
   "source": [
    "![image.png](attachment:fb2ea4e8-23bd-4085-8f59-b64509fbc76c.png)"
   ]
  },
  {
   "cell_type": "code",
   "execution_count": 88,
   "id": "59eb0f07-67d1-40a0-b830-b5aac55f9889",
   "metadata": {},
   "outputs": [
    {
     "data": {
      "text/plain": [
       "True"
      ]
     },
     "execution_count": 88,
     "metadata": {},
     "output_type": "execute_result"
    }
   ],
   "source": [
    "# boolean values are true or false\n",
    "# it should be in uppercase\n",
    "# it should be in T or F \n",
    "True"
   ]
  },
  {
   "cell_type": "code",
   "execution_count": 90,
   "id": "7c0719b3-4f42-4425-96bc-57971ea2dabb",
   "metadata": {},
   "outputs": [
    {
     "data": {
      "text/plain": [
       "False"
      ]
     },
     "execution_count": 90,
     "metadata": {},
     "output_type": "execute_result"
    }
   ],
   "source": [
    "# Boolean can have one of two values:\n",
    "# it can be either True or False\n",
    "# key thing to note would be that\n",
    "# both True and False should be in\n",
    "# \"Proper case\" i.e. The first letter \n",
    "# should be uppercase and rest should be in lowercase\n",
    "False"
   ]
  },
  {
   "cell_type": "code",
   "execution_count": 92,
   "id": "f34310cb-86c1-407e-933e-21a8d302dc93",
   "metadata": {},
   "outputs": [
    {
     "data": {
      "text/plain": [
       "bool"
      ]
     },
     "execution_count": 92,
     "metadata": {},
     "output_type": "execute_result"
    }
   ],
   "source": [
    "type(True)"
   ]
  },
  {
   "cell_type": "code",
   "execution_count": 94,
   "id": "f41665f7-1020-4605-a16e-318cc6fef4b3",
   "metadata": {},
   "outputs": [
    {
     "data": {
      "text/plain": [
       "bool"
      ]
     },
     "execution_count": 94,
     "metadata": {},
     "output_type": "execute_result"
    }
   ],
   "source": [
    "type(False)"
   ]
  },
  {
   "cell_type": "markdown",
   "id": "707f5305-825f-4b2a-9215-4893906a46c2",
   "metadata": {},
   "source": [
    "## List"
   ]
  },
  {
   "cell_type": "code",
   "execution_count": 99,
   "id": "f40a21a4-cc6e-4a06-bafd-e72d056f2df1",
   "metadata": {},
   "outputs": [],
   "source": [
    "# list are used to store values\n",
    "# list are ordered collection\n",
    "# list can store any data types"
   ]
  },
  {
   "cell_type": "code",
   "execution_count": 131,
   "id": "65d8228b-3a34-4386-bb3d-f8965b7ddf2d",
   "metadata": {},
   "outputs": [],
   "source": [
    "# example of a list containing only strings\n",
    "string_list = [\"i am dumb\", \"btw I am iqra\", \"but I am a girl\"]"
   ]
  },
  {
   "cell_type": "code",
   "execution_count": 147,
   "id": "4f3a6869-de69-4cb7-837f-cb650d9b1c8d",
   "metadata": {},
   "outputs": [
    {
     "data": {
      "text/plain": [
       "'i am dumb'"
      ]
     },
     "execution_count": 147,
     "metadata": {},
     "output_type": "execute_result"
    }
   ],
   "source": [
    "# Code below perform indexing\n",
    "# We can only index in ordered list\n",
    "# It starts from 0\n",
    "# It ends at n-1\n",
    "# note: n is the length of the list\n",
    "# when you use the len() function \n",
    "# you get the lenght of the list, \n",
    "# we basically remove one from that\n",
    "# example: length = 3, \n",
    "# then max index is 3-1 = 2\n",
    "string_list[0]"
   ]
  },
  {
   "cell_type": "code",
   "execution_count": 179,
   "id": "a14ce00c-9c15-4958-b741-af83dbe14158",
   "metadata": {},
   "outputs": [
    {
     "data": {
      "text/plain": [
       "3"
      ]
     },
     "execution_count": 179,
     "metadata": {},
     "output_type": "execute_result"
    }
   ],
   "source": [
    "# Its telling us the length of the list\n",
    "len(string_list)"
   ]
  },
  {
   "cell_type": "code",
   "execution_count": 183,
   "id": "5f994447-01d3-4397-98e6-5ce59b1b50d9",
   "metadata": {},
   "outputs": [],
   "source": [
    "# example of a list containing only int\n",
    "int_list = [-2,-1,0,1,2]"
   ]
  },
  {
   "cell_type": "code",
   "execution_count": 189,
   "id": "9a5ecdb7-50cc-42d5-8646-14cdae538a60",
   "metadata": {},
   "outputs": [
    {
     "data": {
      "text/plain": [
       "list"
      ]
     },
     "execution_count": 189,
     "metadata": {},
     "output_type": "execute_result"
    }
   ],
   "source": [
    "# its telling the data type of int list\n",
    "type(int_list)"
   ]
  },
  {
   "cell_type": "code",
   "execution_count": 193,
   "id": "e456b188-1a0d-4ee5-bdeb-717bf2cac2f3",
   "metadata": {},
   "outputs": [
    {
     "data": {
      "text/plain": [
       "5"
      ]
     },
     "execution_count": 193,
     "metadata": {},
     "output_type": "execute_result"
    }
   ],
   "source": [
    "# Its telling us the length of the list\n",
    "len(int_list)"
   ]
  },
  {
   "cell_type": "code",
   "execution_count": 242,
   "id": "039c9c2a-f153-4317-b1b8-12b9a6a9d506",
   "metadata": {},
   "outputs": [
    {
     "data": {
      "text/plain": [
       "2"
      ]
     },
     "execution_count": 242,
     "metadata": {},
     "output_type": "execute_result"
    }
   ],
   "source": [
    "# it is showing us the value of the 4th index element\n",
    "int_list[4]"
   ]
  },
  {
   "cell_type": "code",
   "execution_count": 236,
   "id": "de518565-014d-4c52-aa6a-b48a6289f0ca",
   "metadata": {},
   "outputs": [
    {
     "data": {
      "text/plain": [
       "int"
      ]
     },
     "execution_count": 236,
     "metadata": {},
     "output_type": "execute_result"
    }
   ],
   "source": [
    "# it shows us the data type of the 4th index element\n",
    "type(int_list[4])"
   ]
  },
  {
   "cell_type": "code",
   "execution_count": 238,
   "id": "4c3b5eac-39d7-4e48-bea3-f0f2e61272eb",
   "metadata": {},
   "outputs": [],
   "source": [
    "# example of a list containing only float\n",
    "float_list = [0.1,0.2,0.3,0.4,0.5]"
   ]
  },
  {
   "cell_type": "code",
   "execution_count": 240,
   "id": "0a68a956-5bc0-491c-b029-15c84824986f",
   "metadata": {},
   "outputs": [
    {
     "data": {
      "text/plain": [
       "5"
      ]
     },
     "execution_count": 240,
     "metadata": {},
     "output_type": "execute_result"
    }
   ],
   "source": [
    "# it is telling us the length of the float list\n",
    "len(float_list)"
   ]
  },
  {
   "cell_type": "code",
   "execution_count": 244,
   "id": "7ef33dc9-8fd5-4601-95dc-95d07c7ea27c",
   "metadata": {},
   "outputs": [
    {
     "data": {
      "text/plain": [
       "float"
      ]
     },
     "execution_count": 244,
     "metadata": {},
     "output_type": "execute_result"
    }
   ],
   "source": [
    "# it shows us the data type of the 2nd index element\n",
    "type(float_list[2])"
   ]
  },
  {
   "cell_type": "code",
   "execution_count": 226,
   "id": "296c2bc1-ff3b-4b1b-aaa5-a823ae76d2da",
   "metadata": {},
   "outputs": [],
   "source": [
    "# example of a list containing only bool\n",
    "bool_list = [True , False]"
   ]
  },
  {
   "cell_type": "code",
   "execution_count": 246,
   "id": "4ee32254-e145-45d5-9174-9089dc00f3a6",
   "metadata": {},
   "outputs": [
    {
     "data": {
      "text/plain": [
       "2"
      ]
     },
     "execution_count": 246,
     "metadata": {},
     "output_type": "execute_result"
    }
   ],
   "source": [
    "# it tells us the length of the bool list\n",
    "len(bool_list)"
   ]
  },
  {
   "cell_type": "code",
   "execution_count": 248,
   "id": "1dd0ec92-d784-4e77-a1e7-1f9a03e94d53",
   "metadata": {},
   "outputs": [
    {
     "data": {
      "text/plain": [
       "bool"
      ]
     },
     "execution_count": 248,
     "metadata": {},
     "output_type": "execute_result"
    }
   ],
   "source": [
    "# it tells us the data type of the 0th index element \n",
    "type(bool_list[0])"
   ]
  },
  {
   "cell_type": "code",
   "execution_count": 215,
   "id": "c50672e9-415f-4a8e-a72c-baa6e2cf9eec",
   "metadata": {},
   "outputs": [],
   "source": [
    "# example of a list containing all of the data types\n",
    "all_list = [1,0.5, 'monday' ,'mango',-5,True]"
   ]
  },
  {
   "cell_type": "code",
   "execution_count": 250,
   "id": "1e303d44-80cf-4b7a-9127-85f704371cac",
   "metadata": {},
   "outputs": [
    {
     "data": {
      "text/plain": [
       "6"
      ]
     },
     "execution_count": 250,
     "metadata": {},
     "output_type": "execute_result"
    }
   ],
   "source": [
    "# it tells us the length of all list \n",
    "len(all_list)"
   ]
  },
  {
   "cell_type": "code",
   "execution_count": 252,
   "id": "70dc39c8-ee5d-4889-a3a0-2036b7fef37b",
   "metadata": {},
   "outputs": [
    {
     "data": {
      "text/plain": [
       "float"
      ]
     },
     "execution_count": 252,
     "metadata": {},
     "output_type": "execute_result"
    }
   ],
   "source": [
    "# it tells the data type of the 1st index element\n",
    "type(all_list[1])"
   ]
  },
  {
   "cell_type": "markdown",
   "id": "a77e91c6-8f94-438e-92e8-81c64c0d1213",
   "metadata": {},
   "source": [
    "## Arithmetic Operations"
   ]
  },
  {
   "cell_type": "code",
   "execution_count": 310,
   "id": "b3685c25-5f95-4c43-923e-4ee6a5d35fcf",
   "metadata": {},
   "outputs": [],
   "source": [
    "# defining the variables to be used in arithmetic operations\n",
    "a = 12\n",
    "b = 5"
   ]
  },
  {
   "cell_type": "code",
   "execution_count": 312,
   "id": "24face60-7214-4806-bb4b-a678f5bedfa1",
   "metadata": {},
   "outputs": [
    {
     "data": {
      "text/plain": [
       "17"
      ]
     },
     "execution_count": 312,
     "metadata": {},
     "output_type": "execute_result"
    }
   ],
   "source": [
    "# perform addition (+)\n",
    "a+b"
   ]
  },
  {
   "cell_type": "code",
   "execution_count": 314,
   "id": "8e33d528-016d-4040-9fa5-134c74c37121",
   "metadata": {},
   "outputs": [
    {
     "data": {
      "text/plain": [
       "7"
      ]
     },
     "execution_count": 314,
     "metadata": {},
     "output_type": "execute_result"
    }
   ],
   "source": [
    "# perform substraction (-)\n",
    "a-b"
   ]
  },
  {
   "cell_type": "code",
   "execution_count": 316,
   "id": "379f10dc-5ab8-4797-acb7-a5d4a558096e",
   "metadata": {},
   "outputs": [
    {
     "data": {
      "text/plain": [
       "60"
      ]
     },
     "execution_count": 316,
     "metadata": {},
     "output_type": "execute_result"
    }
   ],
   "source": [
    "# perform multiplication (*)\n",
    "a*b"
   ]
  },
  {
   "cell_type": "code",
   "execution_count": 318,
   "id": "4c93b64c-7477-488a-8b36-d0d736e0aeb7",
   "metadata": {},
   "outputs": [
    {
     "data": {
      "text/plain": [
       "2.4"
      ]
     },
     "execution_count": 318,
     "metadata": {},
     "output_type": "execute_result"
    }
   ],
   "source": [
    "# perform division (/)\n",
    "a/b"
   ]
  },
  {
   "cell_type": "code",
   "execution_count": 319,
   "id": "3d1761de-c971-49c3-a590-1b746712f9ce",
   "metadata": {},
   "outputs": [
    {
     "data": {
      "text/plain": [
       "2"
      ]
     },
     "execution_count": 319,
     "metadata": {},
     "output_type": "execute_result"
    }
   ],
   "source": [
    "# perform floor division (//)\n",
    "a//b"
   ]
  },
  {
   "cell_type": "code",
   "execution_count": 322,
   "id": "29e7ba43-5fcd-4929-8b2a-f2decb56e4bc",
   "metadata": {},
   "outputs": [
    {
     "data": {
      "text/plain": [
       "248832"
      ]
     },
     "execution_count": 322,
     "metadata": {},
     "output_type": "execute_result"
    }
   ],
   "source": [
    "# perform exponential (**)\n",
    "a**b"
   ]
  },
  {
   "cell_type": "code",
   "execution_count": 324,
   "id": "1b8dd3fe-cd7c-4643-a731-89e17ebfb6f2",
   "metadata": {},
   "outputs": [
    {
     "data": {
      "text/plain": [
       "2"
      ]
     },
     "execution_count": 324,
     "metadata": {},
     "output_type": "execute_result"
    }
   ],
   "source": [
    "# perform modulo operation (%)\n",
    "a%b"
   ]
  },
  {
   "cell_type": "code",
   "execution_count": 328,
   "id": "c69cd205-9c4b-4c75-9979-cbbf316bd671",
   "metadata": {},
   "outputs": [
    {
     "data": {
      "text/plain": [
       "complex"
      ]
     },
     "execution_count": 328,
     "metadata": {},
     "output_type": "execute_result"
    }
   ],
   "source": [
    "# trying out the data type of complex number\n",
    "type(1 + 3j)"
   ]
  },
  {
   "cell_type": "markdown",
   "id": "98344709-a176-410b-9d8d-1f7ffb40711f",
   "metadata": {},
   "source": [
    "## Exercise"
   ]
  },
  {
   "cell_type": "markdown",
   "id": "79eccf72-3460-4ead-9240-9467673be5e8",
   "metadata": {},
   "source": [
    "Check the python version you are using"
   ]
  },
  {
   "cell_type": "code",
   "execution_count": 338,
   "id": "15d6224d-9412-4f18-a2ba-6943bdbdce8f",
   "metadata": {},
   "outputs": [
    {
     "name": "stdout",
     "output_type": "stream",
     "text": [
      "Python 3.12.4\n"
     ]
    }
   ],
   "source": [
    "!python --version"
   ]
  },
  {
   "cell_type": "markdown",
   "id": "3e76a44e-6aa0-4249-a7ab-47197a5cc1b4",
   "metadata": {},
   "source": [
    "Write strings on the python interactive shell. The strings are the following:\n",
    "- Your name\n",
    "- Your family name\n",
    "- Your country\n",
    "- I am enjoying 30 days of python"
   ]
  },
  {
   "cell_type": "code",
   "execution_count": 354,
   "id": "58186409-94e6-4c26-9de6-8d1a299cf7c9",
   "metadata": {},
   "outputs": [
    {
     "data": {
      "text/plain": [
       "'i am enjoying 30 days python'"
      ]
     },
     "execution_count": 354,
     "metadata": {},
     "output_type": "execute_result"
    }
   ],
   "source": [
    "name = \"iqra\"\n",
    "familyname = \"Sayyed\"\n",
    "country = \"India\"\n",
    "\"i am enjoying 30 days python\""
   ]
  },
  {
   "cell_type": "markdown",
   "id": "2697922d-2a40-4dc1-9b87-8ad1c3e8aace",
   "metadata": {},
   "source": [
    "Check the data types of the following data:\n",
    "- 10\n",
    "- 9.8\n",
    "- 3.14\n",
    "- 4 - 4j\n",
    "- ['Asabeneh', 'Python', 'Finland']\n",
    "- Your name\n",
    "- Your family name\n",
    "- Your country"
   ]
  },
  {
   "cell_type": "code",
   "execution_count": 357,
   "id": "178aa7d5-9649-4eba-8e22-a1119c0f50b5",
   "metadata": {},
   "outputs": [
    {
     "data": {
      "text/plain": [
       "int"
      ]
     },
     "execution_count": 357,
     "metadata": {},
     "output_type": "execute_result"
    }
   ],
   "source": [
    "type(10)"
   ]
  },
  {
   "cell_type": "code",
   "execution_count": 359,
   "id": "b348a93c-f419-43ce-b63f-a91e098aa931",
   "metadata": {},
   "outputs": [
    {
     "data": {
      "text/plain": [
       "float"
      ]
     },
     "execution_count": 359,
     "metadata": {},
     "output_type": "execute_result"
    }
   ],
   "source": [
    "type(9.8)"
   ]
  },
  {
   "cell_type": "code",
   "execution_count": 361,
   "id": "9faf177a-8588-4b50-85ab-0e8564076b9a",
   "metadata": {},
   "outputs": [
    {
     "data": {
      "text/plain": [
       "float"
      ]
     },
     "execution_count": 361,
     "metadata": {},
     "output_type": "execute_result"
    }
   ],
   "source": [
    "type(3.14)"
   ]
  },
  {
   "cell_type": "code",
   "execution_count": 363,
   "id": "9a1c4568-019b-4364-8dac-dd5bdd0003d4",
   "metadata": {},
   "outputs": [
    {
     "data": {
      "text/plain": [
       "complex"
      ]
     },
     "execution_count": 363,
     "metadata": {},
     "output_type": "execute_result"
    }
   ],
   "source": [
    "type(4 - 4j)"
   ]
  },
  {
   "cell_type": "code",
   "execution_count": 371,
   "id": "24d2a218-ebb4-464b-bde2-c3385ae4a851",
   "metadata": {},
   "outputs": [
    {
     "data": {
      "text/plain": [
       "str"
      ]
     },
     "execution_count": 371,
     "metadata": {},
     "output_type": "execute_result"
    }
   ],
   "source": [
    "type(name)"
   ]
  },
  {
   "cell_type": "code",
   "execution_count": 375,
   "id": "6d4634c7-200c-4005-9f67-560589aaf614",
   "metadata": {},
   "outputs": [
    {
     "data": {
      "text/plain": [
       "str"
      ]
     },
     "execution_count": 375,
     "metadata": {},
     "output_type": "execute_result"
    }
   ],
   "source": [
    "type(familyname)"
   ]
  },
  {
   "cell_type": "code",
   "execution_count": 377,
   "id": "6aebae3b-c99e-4a4d-9f60-4e2a34745581",
   "metadata": {},
   "outputs": [
    {
     "data": {
      "text/plain": [
       "str"
      ]
     },
     "execution_count": 377,
     "metadata": {},
     "output_type": "execute_result"
    }
   ],
   "source": [
    "type(country)"
   ]
  },
  {
   "cell_type": "code",
   "execution_count": null,
   "id": "5a817d3a-3068-43c0-a2ec-225091fa8060",
   "metadata": {},
   "outputs": [],
   "source": []
  }
 ],
 "metadata": {
  "kernelspec": {
   "display_name": "Python 3 (ipykernel)",
   "language": "python",
   "name": "python3"
  },
  "language_info": {
   "codemirror_mode": {
    "name": "ipython",
    "version": 3
   },
   "file_extension": ".py",
   "mimetype": "text/x-python",
   "name": "python",
   "nbconvert_exporter": "python",
   "pygments_lexer": "ipython3",
   "version": "3.12.4"
  }
 },
 "nbformat": 4,
 "nbformat_minor": 5
}
